{
 "cells": [
  {
   "cell_type": "code",
   "execution_count": 1,
   "metadata": {
    "collapsed": true,
    "pycharm": {
     "is_executing": false
    }
   },
   "outputs": [],
   "source": [
    "# https://stackoverflow.com/questions/20225110/comparing-two-dataframes-and-getting-the-differences/20228113#20228113\n",
    "import pandas as pd\n",
    "import numpy as np"
   ]
  },
  {
   "cell_type": "code",
   "execution_count": 2,
   "outputs": [],
   "source": [
    "def dataframe_difference(df1, df2, outpath, which=None):\n",
    "    \"\"\"Find rows which are different between two DataFrames.\"\"\"\n",
    "    comparison_df = df1.merge(df2,\n",
    "                              indicator=True,\n",
    "                              how='outer')\n",
    "    if which is None:\n",
    "        diff_df = comparison_df[comparison_df['_merge'] != 'both']\n",
    "    else:\n",
    "        diff_df = comparison_df[comparison_df['_merge'] == which]\n",
    "    diff_df = diff_df[diff_df.columns[:-1]]\n",
    "    _, filetype = outpath.split('.')\n",
    "    if filetype == 'csv':\n",
    "        diff_df.to_csv(outpath)\n",
    "    else: \n",
    "        diff_df.to_excel(outpath)\n",
    "    return diff_df"
   ],
   "metadata": {
    "collapsed": false,
    "pycharm": {
     "name": "#%%\n",
     "is_executing": false
    }
   }
  },
  {
   "cell_type": "code",
   "execution_count": 3,
   "outputs": [],
   "source": [
    "## change input file paths\n",
    "df1 = pd.read_excel(io=r'C:\\Users\\tengs\\Downloads\\ComparisonData.xlsx',sheet_name='Sheet1')\n",
    "df2 = pd.read_excel(io=r'C:\\Users\\tengs\\Downloads\\ComparisonData.xlsx',sheet_name='Sheet2')\n",
    "# df1 = pd.read_csv('df1.csv')\n",
    "# df2 = pd.read_csv('df2.csv')"
   ],
   "metadata": {
    "collapsed": false,
    "pycharm": {
     "name": "#%%\n",
     "is_executing": false
    }
   }
  },
  {
   "cell_type": "code",
   "execution_count": 5,
   "outputs": [
    {
     "data": {
      "text/plain": "    Name  id\n6   meow   2\n7   beep   3\n8   blep   4\n9   mlem   5\n10  bzzt   6\n11  blop   7",
      "text/html": "<div>\n<style scoped>\n    .dataframe tbody tr th:only-of-type {\n        vertical-align: middle;\n    }\n\n    .dataframe tbody tr th {\n        vertical-align: top;\n    }\n\n    .dataframe thead th {\n        text-align: right;\n    }\n</style>\n<table border=\"1\" class=\"dataframe\">\n  <thead>\n    <tr style=\"text-align: right;\">\n      <th></th>\n      <th>Name</th>\n      <th>id</th>\n    </tr>\n  </thead>\n  <tbody>\n    <tr>\n      <th>6</th>\n      <td>meow</td>\n      <td>2</td>\n    </tr>\n    <tr>\n      <th>7</th>\n      <td>beep</td>\n      <td>3</td>\n    </tr>\n    <tr>\n      <th>8</th>\n      <td>blep</td>\n      <td>4</td>\n    </tr>\n    <tr>\n      <th>9</th>\n      <td>mlem</td>\n      <td>5</td>\n    </tr>\n    <tr>\n      <th>10</th>\n      <td>bzzt</td>\n      <td>6</td>\n    </tr>\n    <tr>\n      <th>11</th>\n      <td>blop</td>\n      <td>7</td>\n    </tr>\n  </tbody>\n</table>\n</div>"
     },
     "metadata": {},
     "output_type": "execute_result",
     "execution_count": 5
    }
   ],
   "source": [
    "dataframe_difference(df1,df2,'both.xlsx',which='both')\n",
    "dataframe_difference(df1,df2,'df1_only.xlsx',which='left_only')\n",
    "dataframe_difference(df1,df2,'df2_only.xlsx',which='right_only')"
   ],
   "metadata": {
    "collapsed": false,
    "pycharm": {
     "name": "#%%\n",
     "is_executing": false
    }
   }
  }
 ],
 "metadata": {
  "kernelspec": {
   "display_name": "Python 3",
   "language": "python",
   "name": "python3"
  },
  "language_info": {
   "codemirror_mode": {
    "name": "ipython",
    "version": 2
   },
   "file_extension": ".py",
   "mimetype": "text/x-python",
   "name": "python",
   "nbconvert_exporter": "python",
   "pygments_lexer": "ipython2",
   "version": "2.7.6"
  },
  "pycharm": {
   "stem_cell": {
    "cell_type": "raw",
    "source": [],
    "metadata": {
     "collapsed": false
    }
   }
  }
 },
 "nbformat": 4,
 "nbformat_minor": 0
}